{
 "cells": [
  {
   "cell_type": "markdown",
   "id": "940db0bb",
   "metadata": {},
   "source": [
    "<h1 style=\"text-align:center;\">Kaprekar's Constant</h1>\n",
    "\n",
    "This notebook has been prepared as the first week assignment of the \"Statistics for Data Science\" curriculum, with the aim of investigatin the [6174](https://en.wikipedia.org/wiki/6174_(number))  myth through Python programming language. The myth in question is formally known in mathematics as Kaprekar's constant, a term derived from the name of [D. R. Kaprekar](https://en.wikipedia.org/wiki/D._R._Kaprekar), the Indian mathematician who discovered this phenomenon in 1949.\n",
    "\n",
    "The myth states that if a four-digit number with at least two distinct digits is taken and its digits are rearranged to form both the largest and smallest possible numbers, the difference between these twi numbers will be computed, and the process wil be iterated with the result. The myth further posits that, after a finite number of such iterations, the resulting value will be the number 6174.\n",
    "\n",
    "It should be noted that the myth does not apply to number with reperated digits (such as 1111 or 3333) and stating with 6174 will result in an immediate end to the process, as the difference will be zore. For a more comprehensive information, please watch the YouTube video. - [6174 - Numberphile](https://www.youtube.com/watch?v=d8TRcZklX_Q) -\n",
    "\n",
    "\n",
    "To test this, please run the code below.\n"
   ]
  },
  {
   "cell_type": "code",
   "execution_count": null,
   "id": "7300c352",
   "metadata": {},
   "outputs": [],
   "source": [
    "number = input(\"Please enter four-digit number: \")\n",
    "print(\"\")\n",
    "\n",
    "def calculate_kaprekar(diff):\n",
    "        \n",
    "        digits = [int(d) for d in str(diff)] \n",
    "        digits.sort()\n",
    "        \n",
    "        small_num = int(''.join([str(d) for d in digits]))\n",
    "        \n",
    "        big_num = int(''.join([str(d) for d in reversed(digits)]))\n",
    "        \n",
    "        diff = big_num - small_num\n",
    "        \n",
    "        text = '{x} - {y} = {result}'.format(x = big_num, y = small_num, result = diff)\n",
    "\n",
    "        if diff == 6174:\n",
    "            print(text, end = \"\\n\")\n",
    "            print(\"\")\n",
    "        else:\n",
    "            print(text, end = \"\\n\")\n",
    "            print(\"\")\n",
    "            calculate_kaprekar(diff)\n",
    "\n",
    "calculate_kaprekar(number)"
   ]
  },
  {
   "cell_type": "markdown",
   "id": "912f1846",
   "metadata": {},
   "source": [
    "<div style = \"text-align: right\"> by Oguzcan Maden </div>"
   ]
  }
 ],
 "metadata": {
  "kernelspec": {
   "display_name": "Python 3 (ipykernel)",
   "language": "python",
   "name": "python3"
  },
  "language_info": {
   "codemirror_mode": {
    "name": "ipython",
    "version": 3
   },
   "file_extension": ".py",
   "mimetype": "text/x-python",
   "name": "python",
   "nbconvert_exporter": "python",
   "pygments_lexer": "ipython3",
   "version": "3.9.13"
  }
 },
 "nbformat": 4,
 "nbformat_minor": 5
}
